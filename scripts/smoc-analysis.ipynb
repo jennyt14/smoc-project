{
 "cells": [
  {
   "cell_type": "markdown",
   "metadata": {
    "cell_id": "b162ae97ce3342538ae23cfe77522bc7",
    "deepnote_cell_type": "text-cell-h2",
    "formattedRanges": []
   },
   "source": [
    "## Data Exploration"
   ]
  },
  {
   "cell_type": "code",
   "execution_count": 7,
   "metadata": {
    "cell_id": "0bedc73292d0411d89aff00cc908d145",
    "deepnote_cell_type": "code",
    "deepnote_to_be_reexecuted": false,
    "execution_millis": 1332,
    "execution_start": 1689630373832,
    "source_hash": "4105c95d"
   },
   "outputs": [],
   "source": [
    "import numpy as np\n",
    "import pandas as pd\n",
    "import matplotlib.pyplot as plt\n",
    "import seaborn as sns\n",
    "\n",
    "df = pd.read_csv('/Users/jennytran/Documents/GitHub/smoc-project/data/SMOCDemoGCA.xlsx - SMOCDemoGCA.csv')\n",
    "\n",
    "df = df[['person_id','Day','chat_room_id','z.participation',\n",
    " 'z.social.impact',\n",
    " 'z.overall.responsivity',\n",
    " 'z.internal.cohesion',\n",
    " 'z.newness',\n",
    " 'z.comm.density',\n",
    " 'SixCluster', 'Sex']]\n",
    "\n",
    "df = df.dropna().reset_index(drop=True)\n",
    "\n",
    "#Groups of only 4\n",
    "df = df[df.groupby('chat_room_id')['chat_room_id'].transform('size') == 4].reset_index(drop=True)\n",
    "chat_room_id = list(set(df['chat_room_id']))"
   ]
  },
  {
   "cell_type": "code",
   "execution_count": 8,
   "metadata": {
    "cell_id": "1bc0766d13f04830979417c1cabdd8d3",
    "deepnote_cell_type": "code",
    "deepnote_to_be_reexecuted": false,
    "execution_millis": 9,
    "execution_start": 1689630375162,
    "source_hash": "3cd0af67"
   },
   "outputs": [
    {
     "data": {
      "text/plain": [
       "1401"
      ]
     },
     "execution_count": 8,
     "metadata": {},
     "output_type": "execute_result"
    }
   ],
   "source": [
    "len(df['person_id'].unique())"
   ]
  },
  {
   "cell_type": "code",
   "execution_count": 9,
   "metadata": {
    "cell_id": "c7bb03ef7f584242b0dfa6258dd4ed53",
    "deepnote_cell_type": "code",
    "deepnote_to_be_reexecuted": false,
    "execution_millis": 14,
    "execution_start": 1689630375175,
    "source_hash": "1e9ea4e6"
   },
   "outputs": [
    {
     "data": {
      "text/plain": [
       "847"
      ]
     },
     "execution_count": 9,
     "metadata": {},
     "output_type": "execute_result"
    }
   ],
   "source": [
    "#Number of Females\n",
    "a = df[df['Sex'] == 2]\n",
    "len(a['person_id'].unique())"
   ]
  },
  {
   "cell_type": "code",
   "execution_count": 10,
   "metadata": {
    "cell_id": "28cd945c3e404a6786c1f660192fd41c",
    "deepnote_cell_type": "code",
    "deepnote_to_be_reexecuted": false,
    "execution_millis": 12,
    "execution_start": 1689630375229,
    "source_hash": "1db7cd33"
   },
   "outputs": [
    {
     "data": {
      "text/plain": [
       "554"
      ]
     },
     "execution_count": 10,
     "metadata": {},
     "output_type": "execute_result"
    }
   ],
   "source": [
    "#Number of Males\n",
    "a = df[df['Sex'] == 1]\n",
    "len(a['person_id'].unique())"
   ]
  },
  {
   "cell_type": "markdown",
   "metadata": {
    "cell_id": "7de6dfaa41a94f7f8da809a84f358d14",
    "deepnote_cell_type": "text-cell-h2",
    "formattedRanges": []
   },
   "source": [
    "## Female Majority, Minority, and Gender Parity"
   ]
  },
  {
   "cell_type": "code",
   "execution_count": 11,
   "metadata": {
    "cell_id": "928bcaa5aaf24119a0dff135b54cb35c",
    "deepnote_cell_type": "code",
    "deepnote_to_be_reexecuted": false,
    "execution_millis": 735,
    "execution_start": 1689630375229,
    "source_hash": "aaae9ecb"
   },
   "outputs": [
    {
     "data": {
      "text/html": [
       "<div>\n",
       "<style scoped>\n",
       "    .dataframe tbody tr th:only-of-type {\n",
       "        vertical-align: middle;\n",
       "    }\n",
       "\n",
       "    .dataframe tbody tr th {\n",
       "        vertical-align: top;\n",
       "    }\n",
       "\n",
       "    .dataframe thead th {\n",
       "        text-align: right;\n",
       "    }\n",
       "</style>\n",
       "<table border=\"1\" class=\"dataframe\">\n",
       "  <thead>\n",
       "    <tr style=\"text-align: right;\">\n",
       "      <th></th>\n",
       "      <th>index</th>\n",
       "      <th>chat_room_id</th>\n",
       "      <th>Number of Females</th>\n",
       "      <th>Gender</th>\n",
       "      <th>avg_participation</th>\n",
       "      <th>avg_social.impact</th>\n",
       "      <th>avg_overall.responsivity</th>\n",
       "      <th>avg_internal.cohesion</th>\n",
       "      <th>avg_newness</th>\n",
       "      <th>avg_comm.density</th>\n",
       "    </tr>\n",
       "  </thead>\n",
       "  <tbody>\n",
       "    <tr>\n",
       "      <th>0</th>\n",
       "      <td>0</td>\n",
       "      <td>classChat-1006-6818</td>\n",
       "      <td>2</td>\n",
       "      <td>[1.0, 2.0, 2.0, 1.0]</td>\n",
       "      <td>-0.006825</td>\n",
       "      <td>-0.770453</td>\n",
       "      <td>-0.718806</td>\n",
       "      <td>-0.465317</td>\n",
       "      <td>-0.159675</td>\n",
       "      <td>-0.085856</td>\n",
       "    </tr>\n",
       "    <tr>\n",
       "      <th>1</th>\n",
       "      <td>1</td>\n",
       "      <td>classChat-826-4605</td>\n",
       "      <td>2</td>\n",
       "      <td>[2.0, 2.0, 1.0, 1.0]</td>\n",
       "      <td>0.013880</td>\n",
       "      <td>-0.110327</td>\n",
       "      <td>-0.142406</td>\n",
       "      <td>-0.232607</td>\n",
       "      <td>-0.174208</td>\n",
       "      <td>-0.141597</td>\n",
       "    </tr>\n",
       "    <tr>\n",
       "      <th>2</th>\n",
       "      <td>3</td>\n",
       "      <td>classChat-1006-6759</td>\n",
       "      <td>2</td>\n",
       "      <td>[1.0, 2.0, 1.0, 2.0]</td>\n",
       "      <td>0.051678</td>\n",
       "      <td>-0.530079</td>\n",
       "      <td>-0.514029</td>\n",
       "      <td>0.454736</td>\n",
       "      <td>-0.237458</td>\n",
       "      <td>-0.087081</td>\n",
       "    </tr>\n",
       "    <tr>\n",
       "      <th>3</th>\n",
       "      <td>4</td>\n",
       "      <td>classChat-806-3940</td>\n",
       "      <td>3</td>\n",
       "      <td>[1.0, 2.0, 2.0, 2.0]</td>\n",
       "      <td>0.177850</td>\n",
       "      <td>-0.030625</td>\n",
       "      <td>0.067163</td>\n",
       "      <td>-0.046121</td>\n",
       "      <td>-0.013785</td>\n",
       "      <td>-0.115418</td>\n",
       "    </tr>\n",
       "    <tr>\n",
       "      <th>4</th>\n",
       "      <td>5</td>\n",
       "      <td>classChat-806-4028</td>\n",
       "      <td>2</td>\n",
       "      <td>[1.0, 2.0, 1.0, 2.0]</td>\n",
       "      <td>-0.129085</td>\n",
       "      <td>0.245239</td>\n",
       "      <td>0.335572</td>\n",
       "      <td>0.495056</td>\n",
       "      <td>-0.346896</td>\n",
       "      <td>-0.418761</td>\n",
       "    </tr>\n",
       "    <tr>\n",
       "      <th>...</th>\n",
       "      <td>...</td>\n",
       "      <td>...</td>\n",
       "      <td>...</td>\n",
       "      <td>...</td>\n",
       "      <td>...</td>\n",
       "      <td>...</td>\n",
       "      <td>...</td>\n",
       "      <td>...</td>\n",
       "      <td>...</td>\n",
       "      <td>...</td>\n",
       "    </tr>\n",
       "    <tr>\n",
       "      <th>631</th>\n",
       "      <td>754</td>\n",
       "      <td>classChat-1403-13466</td>\n",
       "      <td>3</td>\n",
       "      <td>[2.0, 2.0, 2.0, 1.0]</td>\n",
       "      <td>-0.025065</td>\n",
       "      <td>-0.685995</td>\n",
       "      <td>-0.631283</td>\n",
       "      <td>-0.350009</td>\n",
       "      <td>-0.172490</td>\n",
       "      <td>-0.070490</td>\n",
       "    </tr>\n",
       "    <tr>\n",
       "      <th>632</th>\n",
       "      <td>756</td>\n",
       "      <td>classChat-806-3983</td>\n",
       "      <td>2</td>\n",
       "      <td>[2.0, 2.0, 1.0, 1.0]</td>\n",
       "      <td>0.292712</td>\n",
       "      <td>0.310650</td>\n",
       "      <td>0.332839</td>\n",
       "      <td>0.038180</td>\n",
       "      <td>-0.132631</td>\n",
       "      <td>-0.208648</td>\n",
       "    </tr>\n",
       "    <tr>\n",
       "      <th>633</th>\n",
       "      <td>757</td>\n",
       "      <td>classChat-1492-14647</td>\n",
       "      <td>3</td>\n",
       "      <td>[2.0, 2.0, 1.0, 2.0]</td>\n",
       "      <td>-0.117982</td>\n",
       "      <td>-0.638166</td>\n",
       "      <td>-0.583704</td>\n",
       "      <td>-0.548832</td>\n",
       "      <td>-0.159780</td>\n",
       "      <td>-0.013300</td>\n",
       "    </tr>\n",
       "    <tr>\n",
       "      <th>634</th>\n",
       "      <td>758</td>\n",
       "      <td>classChat-1403-13559</td>\n",
       "      <td>3</td>\n",
       "      <td>[2.0, 2.0, 2.0, 1.0]</td>\n",
       "      <td>-0.328594</td>\n",
       "      <td>0.294396</td>\n",
       "      <td>0.147563</td>\n",
       "      <td>-0.097019</td>\n",
       "      <td>-0.180462</td>\n",
       "      <td>-0.162110</td>\n",
       "    </tr>\n",
       "    <tr>\n",
       "      <th>635</th>\n",
       "      <td>759</td>\n",
       "      <td>classChat-1403-13652</td>\n",
       "      <td>3</td>\n",
       "      <td>[2.0, 2.0, 2.0, 1.0]</td>\n",
       "      <td>-0.006825</td>\n",
       "      <td>-0.402499</td>\n",
       "      <td>-0.317622</td>\n",
       "      <td>-0.171958</td>\n",
       "      <td>-0.216914</td>\n",
       "      <td>-0.239801</td>\n",
       "    </tr>\n",
       "  </tbody>\n",
       "</table>\n",
       "<p>636 rows × 10 columns</p>\n",
       "</div>"
      ],
      "text/plain": [
       "     index          chat_room_id  Number of Females                Gender  \\\n",
       "0        0   classChat-1006-6818                  2  [1.0, 2.0, 2.0, 1.0]   \n",
       "1        1    classChat-826-4605                  2  [2.0, 2.0, 1.0, 1.0]   \n",
       "2        3   classChat-1006-6759                  2  [1.0, 2.0, 1.0, 2.0]   \n",
       "3        4    classChat-806-3940                  3  [1.0, 2.0, 2.0, 2.0]   \n",
       "4        5    classChat-806-4028                  2  [1.0, 2.0, 1.0, 2.0]   \n",
       "..     ...                   ...                ...                   ...   \n",
       "631    754  classChat-1403-13466                  3  [2.0, 2.0, 2.0, 1.0]   \n",
       "632    756    classChat-806-3983                  2  [2.0, 2.0, 1.0, 1.0]   \n",
       "633    757  classChat-1492-14647                  3  [2.0, 2.0, 1.0, 2.0]   \n",
       "634    758  classChat-1403-13559                  3  [2.0, 2.0, 2.0, 1.0]   \n",
       "635    759  classChat-1403-13652                  3  [2.0, 2.0, 2.0, 1.0]   \n",
       "\n",
       "     avg_participation  avg_social.impact  avg_overall.responsivity  \\\n",
       "0            -0.006825          -0.770453                 -0.718806   \n",
       "1             0.013880          -0.110327                 -0.142406   \n",
       "2             0.051678          -0.530079                 -0.514029   \n",
       "3             0.177850          -0.030625                  0.067163   \n",
       "4            -0.129085           0.245239                  0.335572   \n",
       "..                 ...                ...                       ...   \n",
       "631          -0.025065          -0.685995                 -0.631283   \n",
       "632           0.292712           0.310650                  0.332839   \n",
       "633          -0.117982          -0.638166                 -0.583704   \n",
       "634          -0.328594           0.294396                  0.147563   \n",
       "635          -0.006825          -0.402499                 -0.317622   \n",
       "\n",
       "     avg_internal.cohesion  avg_newness  avg_comm.density  \n",
       "0                -0.465317    -0.159675         -0.085856  \n",
       "1                -0.232607    -0.174208         -0.141597  \n",
       "2                 0.454736    -0.237458         -0.087081  \n",
       "3                -0.046121    -0.013785         -0.115418  \n",
       "4                 0.495056    -0.346896         -0.418761  \n",
       "..                     ...          ...               ...  \n",
       "631              -0.350009    -0.172490         -0.070490  \n",
       "632               0.038180    -0.132631         -0.208648  \n",
       "633              -0.548832    -0.159780         -0.013300  \n",
       "634              -0.097019    -0.180462         -0.162110  \n",
       "635              -0.171958    -0.216914         -0.239801  \n",
       "\n",
       "[636 rows x 10 columns]"
      ]
     },
     "execution_count": 11,
     "metadata": {},
     "output_type": "execute_result"
    }
   ],
   "source": [
    "#Find number of females in a group -> df2\n",
    "sex_lst = []\n",
    "z_par = []\n",
    "z_soc = []\n",
    "z_overesp = []\n",
    "z_internal = []\n",
    "z_new = []\n",
    "z_dens = []\n",
    "num_females = []\n",
    "for n in chat_room_id:\n",
    "  a = df[df['chat_room_id'] == n]\n",
    "  temp_sex = []\n",
    "  for i in a['Sex']:\n",
    "    temp_sex.append(i)\n",
    "  sex_lst.append(temp_sex)\n",
    "  z_par.append(sum(a['z.participation']) / len(a['z.participation']))\n",
    "  z_soc.append(sum(a['z.social.impact']) / len(a['z.social.impact']))\n",
    "  z_overesp.append(sum(a['z.overall.responsivity']) / len(a['z.overall.responsivity']))\n",
    "  z_internal.append(sum(a['z.internal.cohesion']) / len(a['z.internal.cohesion']))\n",
    "  z_new.append(sum(a['z.newness']) / len(a['z.newness']))\n",
    "  z_dens.append(sum(a['z.comm.density']) / len(a['z.comm.density']))\n",
    "\n",
    "for n in sex_lst:\n",
    "  num_females.append(n.count(2))\n",
    "\n",
    "d = {\"chat_room_id\": chat_room_id, \"Number of Females\": num_females ,\"Gender\": sex_lst, 'avg_participation': z_par, 'avg_social.impact': z_soc,'avg_overall.responsivity': z_overesp,'avg_internal.cohesion': z_internal,'avg_newness': z_new,'avg_comm.density': z_dens}\n",
    "df2 = pd.DataFrame(d)\n",
    "df2.drop(df2.loc[df2['Number of Females']==0].index, inplace=True)\n",
    "df2.drop(df2.loc[df2['Number of Females']==4].index, inplace=True)\n",
    "df2.reset_index()"
   ]
  },
  {
   "cell_type": "code",
   "execution_count": 12,
   "metadata": {
    "cell_id": "bb16836cba094f9fa895e4d817a7b2bb",
    "deepnote_cell_type": "code",
    "deepnote_to_be_reexecuted": false,
    "execution_millis": 9,
    "execution_start": 1689630375877,
    "source_hash": "4812171f"
   },
   "outputs": [],
   "source": [
    "num = [1,2,3]\n",
    "z_par = []\n",
    "z_soc = []\n",
    "z_overesp = []\n",
    "z_internal = []\n",
    "z_new = []\n",
    "z_dens = []\n",
    "for n in num:\n",
    "  if n == 1:\n",
    "    y = df2.loc[df2['Number of Females'] <= n]\n",
    "    z_par.append(sum(y['avg_participation']) / len(y))\n",
    "    z_soc.append(sum(y['avg_social.impact']) / len(y))\n",
    "    z_overesp.append(sum(y['avg_overall.responsivity']) / len(y))\n",
    "    z_internal.append(sum(y['avg_internal.cohesion']) / len(y))\n",
    "    z_new.append(sum(y['avg_newness']) / len(y))\n",
    "    z_dens.append(sum(y['avg_comm.density']) / len(y))\n",
    "  elif n == 2:\n",
    "    y = df2.loc[df2['Number of Females'] == n]\n",
    "    z_par.append(sum(y['avg_participation']) / len(y))\n",
    "    z_soc.append(sum(y['avg_social.impact']) / len(y))\n",
    "    z_overesp.append(sum(y['avg_overall.responsivity']) / len(y))\n",
    "    z_internal.append(sum(y['avg_internal.cohesion']) / len(y))\n",
    "    z_new.append(sum(y['avg_newness']) / len(y))\n",
    "    z_dens.append(sum(y['avg_comm.density']) / len(y))\n",
    "  elif n == 3:\n",
    "    y = df2.loc[df2['Number of Females'] >= n]\n",
    "    z_par.append(sum(y['avg_participation']) / len(y))\n",
    "    z_soc.append(sum(y['avg_social.impact']) / len(y))\n",
    "    z_overesp.append(sum(y['avg_overall.responsivity']) / len(y))\n",
    "    z_internal.append(sum(y['avg_internal.cohesion']) / len(y))\n",
    "    z_new.append(sum(y['avg_newness']) / len(y))\n",
    "    z_dens.append(sum(y['avg_comm.density']) / len(y))"
   ]
  },
  {
   "cell_type": "code",
   "execution_count": 13,
   "metadata": {
    "cell_id": "2a4ef16f95f64525b8ba43f927c0b7cd",
    "deepnote_cell_type": "code",
    "deepnote_to_be_reexecuted": false,
    "execution_millis": 9,
    "execution_start": 1689630375924,
    "source_hash": "c54e566f"
   },
   "outputs": [],
   "source": [
    "plotdata = pd.DataFrame({\n",
    "    \"z.participation\":z_par,\n",
    "    \"z.social.impact\":z_soc,\n",
    "    \"z.overall.responsivity\":z_overesp,\n",
    "    \"z.internal.cohesion\":z_internal,\n",
    "    \"z.newness\":z_new,\n",
    "    \"z.comm.density\":z_dens\n",
    "\n",
    "    }, \n",
    "    index=['female minority', 'gender parity', 'female majority']\n",
    ")\n",
    "\n",
    "plotdata = plotdata + .20"
   ]
  },
  {
   "cell_type": "code",
   "execution_count": 14,
   "metadata": {
    "cell_id": "dbfd53eab676473da08521da881105da",
    "deepnote_cell_type": "code",
    "deepnote_to_be_reexecuted": false,
    "execution_millis": 142,
    "execution_start": 1689630375925,
    "source_hash": "dc0ca490"
   },
   "outputs": [
    {
     "data": {
      "text/plain": [
       "(array([0, 1, 2]),\n",
       " [Text(0, 0, 'female minority'),\n",
       "  Text(1, 0, 'gender parity'),\n",
       "  Text(2, 0, 'female majority')])"
      ]
     },
     "execution_count": 14,
     "metadata": {},
     "output_type": "execute_result"
    },
    {
     "data": {
      "image/png": "[encoded data removed]",
      "text/plain": [
       "<Figure size 1400x700 with 1 Axes>"
      ]
     },
     "metadata": {},
     "output_type": "display_data"
    }
   ],
   "source": [
    "sns.set()\n",
    "CB_color_cycle = ['#6cc0e5', '#fbc93d', '#fb4f4f',\n",
    "                  '#F0E442', '#0072B2', '#D55E00',\n",
    "                  '#999999', '#e41a1c', '#dede00']\n",
    "plotdata.plot(kind=\"bar\", figsize=(14, 7), edgecolor = 'black')\n",
    "plt.title(\"Average GCA Measures for Each Group Gender Composition\", fontsize=15)\n",
    "#plt.xlabel(\"Gender Compositions\")\n",
    "plt.ylabel(\"Scores\", fontsize=15)\n",
    "plt.xticks(rotation=45, ha='right', fontsize=15)"
   ]
  },
  {
   "cell_type": "markdown",
   "metadata": {},
   "source": [
    "## Mean measure for female students"
   ]
  },
  {
   "cell_type": "code",
   "execution_count": 9,
   "metadata": {
    "cell_id": "48602bbd591942a19f913b6f9e102309",
    "deepnote_cell_type": "code",
    "deepnote_to_be_reexecuted": false,
    "execution_millis": 1604,
    "execution_start": 1689630376448,
    "source_hash": "6c86177"
   },
   "outputs": [
    {
     "data": {
      "text/plain": [
       "3040"
      ]
     },
     "execution_count": 9,
     "metadata": {},
     "output_type": "execute_result"
    }
   ],
   "source": [
    "sex_lst = []\n",
    "num_females = []\n",
    "for n in df['chat_room_id']:\n",
    "  a = df[df['chat_room_id'] == n]\n",
    "  temp_sex = []\n",
    "  for i in a['Sex']:\n",
    "    temp_sex.append(i)\n",
    "  sex_lst.append(temp_sex)\n",
    "for n in sex_lst:\n",
    "  num_females.append(n.count(2))\n",
    "len(num_females)"
   ]
  },
  {
   "cell_type": "code",
   "execution_count": 10,
   "metadata": {
    "cell_id": "8142cdbbda56427ba68e69354b8e46a7",
    "deepnote_cell_type": "code",
    "deepnote_to_be_reexecuted": false,
    "execution_millis": 304,
    "execution_start": 1689630378092,
    "source_hash": "277a608c"
   },
   "outputs": [
    {
     "name": "stderr",
     "output_type": "stream",
     "text": [
      "/shared-libs/python3.9/py/lib/python3.9/site-packages/pandas/core/frame.py:4308: SettingWithCopyWarning: \n",
      "A value is trying to be set on a copy of a slice from a DataFrame\n",
      "\n",
      "See the caveats in the documentation: https://pandas.pydata.org/pandas-docs/stable/user_guide/indexing.html#returning-a-view-versus-a-copy\n",
      "  return super().drop(\n"
     ]
    },
    {
     "data": {
      "application/vnd.deepnote.dataframe.v3+json": {
       "column_count": 12,
       "columns": [
        {
         "dtype": "float64",
         "name": "person_id",
         "stats": {
          "histogram": [
           {
            "bin_end": 9982950.345538002,
            "bin_start": 75754.38282,
            "count": 171
           },
           {
            "bin_end": 19890146.308256,
            "bin_start": 9982950.345538002,
            "count": 142
           },
           {
            "bin_end": 29797342.270974,
            "bin_start": 19890146.308256,
            "count": 145
           },
           {
            "bin_end": 39704538.233692005,
            "bin_start": 29797342.270974,
            "count": 163
           },
           {
            "bin_end": 49611734.19641001,
            "bin_start": 39704538.233692005,
            "count": 149
           },
           {
            "bin_end": 59518930.159128,
            "bin_start": 49611734.19641001,
            "count": 156
           },
           {
            "bin_end": 69426126.121846,
            "bin_start": 59518930.159128,
            "count": 108
           },
           {
            "bin_end": 79333322.084564,
            "bin_start": 69426126.121846,
            "count": 155
           },
           {
            "bin_end": 89240518.047282,
            "bin_start": 79333322.084564,
            "count": 113
           },
           {
            "bin_end": 99147714.01,
            "bin_start": 89240518.047282,
            "count": 141
           }
          ],
          "max": "99147714.01",
          "min": "75754.38282",
          "nan_count": 0,
          "unique_count": 785
         }
        },
        {
         "dtype": "int64",
         "name": "Day",
         "stats": {
          "histogram": [
           {
            "bin_end": 1.8,
            "bin_start": 1,
            "count": 86
           },
           {
            "bin_end": 2.6,
            "bin_start": 1.8,
            "count": 158
           },
           {
            "bin_end": 3.4000000000000004,
            "bin_start": 2.6,
            "count": 0
           },
           {
            "bin_end": 4.2,
            "bin_start": 3.4000000000000004,
            "count": 162
           },
           {
            "bin_end": 5,
            "bin_start": 4.2,
            "count": 0
           },
           {
            "bin_end": 5.800000000000001,
            "bin_start": 5,
            "count": 133
           },
           {
            "bin_end": 6.6000000000000005,
            "bin_start": 5.800000000000001,
            "count": 0
           },
           {
            "bin_end": 7.4,
            "bin_start": 6.6000000000000005,
            "count": 0
           },
           {
            "bin_end": 8.2,
            "bin_start": 7.4,
            "count": 426
           },
           {
            "bin_end": 9,
            "bin_start": 8.2,
            "count": 478
           }
          ],
          "max": "9",
          "min": "1",
          "nan_count": 0,
          "unique_count": 6
         }
        },
        {
         "dtype": "object",
         "name": "chat_room_id",
         "stats": {
          "categories": [
           {
            "count": 3,
            "name": "classChat-806-4046"
           },
           {
            "count": 3,
            "name": "classChat-1492-14789"
           },
           {
            "count": 1437,
            "name": "634 others"
           }
          ],
          "nan_count": 0,
          "unique_count": 636
         }
        },
        {
         "dtype": "float64",
         "name": "z.participation",
         "stats": {
          "histogram": [
           {
            "bin_end": -0.67668961327,
            "bin_start": -0.8424493168,
            "count": 381
           },
           {
            "bin_end": -0.51092990974,
            "bin_start": -0.67668961327,
            "count": 92
           },
           {
            "bin_end": -0.34517020621000005,
            "bin_start": -0.51092990974,
            "count": 89
           },
           {
            "bin_end": -0.17941050268000003,
            "bin_start": -0.34517020621000005,
            "count": 89
           },
           {
            "bin_end": -0.013650799150000004,
            "bin_start": -0.17941050268000003,
            "count": 87
           },
           {
            "bin_end": 0.1521089043799999,
            "bin_start": -0.013650799150000004,
            "count": 111
           },
           {
            "bin_end": 0.31786860790999993,
            "bin_start": 0.1521089043799999,
            "count": 102
           },
           {
            "bin_end": 0.48362831143999996,
            "bin_start": 0.31786860790999993,
            "count": 65
           },
           {
            "bin_end": 0.64938801497,
            "bin_start": 0.48362831143999996,
            "count": 70
           },
           {
            "bin_end": 0.8151477185,
            "bin_start": 0.64938801497,
            "count": 357
           }
          ],
          "max": "0.8151477185",
          "min": "-0.8424493168",
          "nan_count": 0,
          "unique_count": 202
         }
        },
        {
         "dtype": "float64",
         "name": "z.social.impact",
         "stats": {
          "histogram": [
           {
            "bin_end": -0.62563136464,
            "bin_start": -0.7704526988,
            "count": 433
           },
           {
            "bin_end": -0.48081003048,
            "bin_start": -0.62563136464,
            "count": 131
           },
           {
            "bin_end": -0.33598869631999995,
            "bin_start": -0.48081003048,
            "count": 132
           },
           {
            "bin_end": -0.19116736215999997,
            "bin_start": -0.33598869631999995,
            "count": 122
           },
           {
            "bin_end": -0.046346027999999984,
            "bin_start": -0.19116736215999997,
            "count": 101
           },
           {
            "bin_end": 0.09847530616000011,
            "bin_start": -0.046346027999999984,
            "count": 100
           },
           {
            "bin_end": 0.2432966403200001,
            "bin_start": 0.09847530616000011,
            "count": 91
           },
           {
            "bin_end": 0.38811797448000007,
            "bin_start": 0.2432966403200001,
            "count": 70
           },
           {
            "bin_end": 0.53293930864,
            "bin_start": 0.38811797448000007,
            "count": 36
           },
           {
            "bin_end": 0.6777606428,
            "bin_start": 0.53293930864,
            "count": 227
           }
          ],
          "max": "0.6777606428",
          "min": "-0.7704526988",
          "nan_count": 0,
          "unique_count": 939
         }
        },
        {
         "dtype": "float64",
         "name": "z.overall.responsivity",
         "stats": {
          "histogram": [
           {
            "bin_end": -0.58672229863,
            "bin_start": -0.7188061906,
            "count": 428
           },
           {
            "bin_end": -0.45463840666,
            "bin_start": -0.58672229863,
            "count": 131
           },
           {
            "bin_end": -0.32255451469,
            "bin_start": -0.45463840666,
            "count": 143
           },
           {
            "bin_end": -0.19047062272000004,
            "bin_start": -0.32255451469,
            "count": 137
           },
           {
            "bin_end": -0.058386730750000004,
            "bin_start": -0.19047062272000004,
            "count": 108
           },
           {
            "bin_end": 0.07369716121999992,
            "bin_start": -0.058386730750000004,
            "count": 82
           },
           {
            "bin_end": 0.20578105318999984,
            "bin_start": 0.07369716121999992,
            "count": 94
           },
           {
            "bin_end": 0.3378649451599999,
            "bin_start": 0.20578105318999984,
            "count": 75
           },
           {
            "bin_end": 0.4699488371299999,
            "bin_start": 0.3378649451599999,
            "count": 50
           },
           {
            "bin_end": 0.6020327291,
            "bin_start": 0.4699488371299999,
            "count": 195
           }
          ],
          "max": "0.6020327291",
          "min": "-0.7188061906",
          "nan_count": 0,
          "unique_count": 963
         }
        },
        {
         "dtype": "float64",
         "name": "z.internal.cohesion",
         "stats": {
          "histogram": [
           {
            "bin_end": -0.7524310993100001,
            "bin_start": -0.9123025643,
            "count": 314
           },
           {
            "bin_end": -0.59255963432,
            "bin_start": -0.7524310993100001,
            "count": 90
           },
           {
            "bin_end": -0.43268816933000004,
            "bin_start": -0.59255963432,
            "count": 132
           },
           {
            "bin_end": -0.27281670434000005,
            "bin_start": -0.43268816933000004,
            "count": 128
           },
           {
            "bin_end": -0.11294523935000012,
            "bin_start": -0.27281670434000005,
            "count": 125
           },
           {
            "bin_end": 0.04692622563999993,
            "bin_start": -0.11294523935000012,
            "count": 112
           },
           {
            "bin_end": 0.20679769062999998,
            "bin_start": 0.04692622563999993,
            "count": 103
           },
           {
            "bin_end": 0.3666691556199999,
            "bin_start": 0.20679769062999998,
            "count": 85
           },
           {
            "bin_end": 0.5265406206099998,
            "bin_start": 0.3666691556199999,
            "count": 81
           },
           {
            "bin_end": 0.6864120856,
            "bin_start": 0.5265406206099998,
            "count": 273
           }
          ],
          "max": "0.6864120856",
          "min": "-0.9123025643",
          "nan_count": 0,
          "unique_count": 984
         }
        },
        {
         "dtype": "float64",
         "name": "z.newness",
         "stats": {
          "histogram": [
           {
            "bin_end": -0.47614041612,
            "bin_start": -0.5516235708,
            "count": 396
           },
           {
            "bin_end": -0.40065726144,
            "bin_start": -0.47614041612,
            "count": 96
           },
           {
            "bin_end": -0.32517410676,
            "bin_start": -0.40065726144,
            "count": 113
           },
           {
            "bin_end": -0.24969095208000003,
            "bin_start": -0.32517410676,
            "count": 139
           },
           {
            "bin_end": -0.17420779740000003,
            "bin_start": -0.24969095208000003,
            "count": 97
           },
           {
            "bin_end": -0.09872464272000003,
            "bin_start": -0.17420779740000003,
            "count": 102
           },
           {
            "bin_end": -0.023241488040000036,
            "bin_start": -0.09872464272000003,
            "count": 75
           },
           {
            "bin_end": 0.05224166663999996,
            "bin_start": -0.023241488040000036,
            "count": 47
           },
           {
            "bin_end": 0.12772482131999996,
            "bin_start": 0.05224166663999996,
            "count": 52
           },
           {
            "bin_end": 0.203207976,
            "bin_start": 0.12772482131999996,
            "count": 326
           }
          ],
          "max": "0.203207976",
          "min": "-0.5516235708",
          "nan_count": 0,
          "unique_count": 824
         }
        },
        {
         "dtype": "float64",
         "name": "z.comm.density",
         "stats": {
          "histogram": [
           {
            "bin_end": -0.4378938727,
            "bin_start": -0.5119680061,
            "count": 396
           },
           {
            "bin_end": -0.36381973930000006,
            "bin_start": -0.4378938727,
            "count": 120
           },
           {
            "bin_end": -0.2897456059000001,
            "bin_start": -0.36381973930000006,
            "count": 107
           },
           {
            "bin_end": -0.21567147250000007,
            "bin_start": -0.2897456059000001,
            "count": 99
           },
           {
            "bin_end": -0.14159733910000005,
            "bin_start": -0.21567147250000007,
            "count": 85
           },
           {
            "bin_end": -0.06752320570000009,
            "bin_start": -0.14159733910000005,
            "count": 82
           },
           {
            "bin_end": 0.0065509276999998756,
            "bin_start": -0.06752320570000009,
            "count": 74
           },
           {
            "bin_end": 0.0806250610999999,
            "bin_start": 0.0065509276999998756,
            "count": 68
           },
           {
            "bin_end": 0.15469919449999991,
            "bin_start": 0.0806250610999999,
            "count": 63
           },
           {
            "bin_end": 0.2287733279,
            "bin_start": 0.15469919449999991,
            "count": 349
           }
          ],
          "max": "0.2287733279",
          "min": "-0.5119680061",
          "nan_count": 0,
          "unique_count": 809
         }
        },
        {
         "dtype": "int64",
         "name": "SixCluster",
         "stats": {
          "histogram": [
           {
            "bin_end": 1.5,
            "bin_start": 1,
            "count": 409
           },
           {
            "bin_end": 2,
            "bin_start": 1.5,
            "count": 0
           },
           {
            "bin_end": 2.5,
            "bin_start": 2,
            "count": 236
           },
           {
            "bin_end": 3,
            "bin_start": 2.5,
            "count": 0
           },
           {
            "bin_end": 3.5,
            "bin_start": 3,
            "count": 109
           },
           {
            "bin_end": 4,
            "bin_start": 3.5,
            "count": 0
           },
           {
            "bin_end": 4.5,
            "bin_start": 4,
            "count": 329
           },
           {
            "bin_end": 5,
            "bin_start": 4.5,
            "count": 0
           },
           {
            "bin_end": 5.5,
            "bin_start": 5,
            "count": 125
           },
           {
            "bin_end": 6,
            "bin_start": 5.5,
            "count": 235
           }
          ],
          "max": "6",
          "min": "1",
          "nan_count": 0,
          "unique_count": 6
         }
        },
        {
         "dtype": "float64",
         "name": "Sex",
         "stats": {
          "histogram": [
           {
            "bin_end": 1.6,
            "bin_start": 1.5,
            "count": 0
           },
           {
            "bin_end": 1.7,
            "bin_start": 1.6,
            "count": 0
           },
           {
            "bin_end": 1.8,
            "bin_start": 1.7,
            "count": 0
           },
           {
            "bin_end": 1.9,
            "bin_start": 1.8,
            "count": 0
           },
           {
            "bin_end": 2,
            "bin_start": 1.9,
            "count": 0
           },
           {
            "bin_end": 2.1,
            "bin_start": 2,
            "count": 1443
           },
           {
            "bin_end": 2.2,
            "bin_start": 2.1,
            "count": 0
           },
           {
            "bin_end": 2.3,
            "bin_start": 2.2,
            "count": 0
           },
           {
            "bin_end": 2.4,
            "bin_start": 2.3,
            "count": 0
           },
           {
            "bin_end": 2.5,
            "bin_start": 2.4,
            "count": 0
           }
          ],
          "max": "2.0",
          "min": "2.0",
          "nan_count": 0,
          "unique_count": 1
         }
        },
        {
         "dtype": "int64",
         "name": "Number of Females",
         "stats": {
          "histogram": [
           {
            "bin_end": 1.2,
            "bin_start": 1,
            "count": 110
           },
           {
            "bin_end": 1.4,
            "bin_start": 1.2,
            "count": 0
           },
           {
            "bin_end": 1.6,
            "bin_start": 1.4,
            "count": 0
           },
           {
            "bin_end": 1.8,
            "bin_start": 1.6,
            "count": 0
           },
           {
            "bin_end": 2,
            "bin_start": 1.8,
            "count": 0
           },
           {
            "bin_end": 2.2,
            "bin_start": 2,
            "count": 490
           },
           {
            "bin_end": 2.4000000000000004,
            "bin_start": 2.2,
            "count": 0
           },
           {
            "bin_end": 2.6,
            "bin_start": 2.4000000000000004,
            "count": 0
           },
           {
            "bin_end": 2.8,
            "bin_start": 2.6,
            "count": 0
           },
           {
            "bin_end": 3,
            "bin_start": 2.8,
            "count": 843
           }
          ],
          "max": "3",
          "min": "1",
          "nan_count": 0,
          "unique_count": 3
         }
        },
        {
         "dtype": "int64",
         "name": "_deepnote_index_column"
        }
       ],
       "row_count": 1443,
       "rows": [
        {
         "Day": 4,
         "Number of Females": 1,
         "Sex": 2,
         "SixCluster": 5,
         "_deepnote_index_column": 0,
         "chat_room_id": "classChat-1006-6769",
         "person_id": 75754.38282,
         "z.comm.density": -0.4101375708,
         "z.internal.cohesion": -0.9123025643,
         "z.newness": -0.5516235708,
         "z.overall.responsivity": 0.6020327291,
         "z.participation": -0.7410433805,
         "z.social.impact": -0.7704526988
        },
        {
         "Day": 8,
         "Number of Females": 2,
         "Sex": 2,
         "SixCluster": 5,
         "_deepnote_index_column": 1,
         "chat_room_id": "classChat-1403-13615",
         "person_id": 75754.38282,
         "z.comm.density": -0.5119680061,
         "z.internal.cohesion": -0.9123025643,
         "z.newness": -0.5516235708,
         "z.overall.responsivity": 0.6020327291,
         "z.participation": -0.7410433805,
         "z.social.impact": -0.7704526988
        },
        {
         "Day": 1,
         "Number of Females": 3,
         "Sex": 2,
         "SixCluster": 6,
         "_deepnote_index_column": 2,
         "chat_room_id": "classChat-806-4046",
         "person_id": 354809.0776,
         "z.comm.density": -0.5119680061,
         "z.internal.cohesion": 0.6864120856,
         "z.newness": -0.5516235708,
         "z.overall.responsivity": 0.3177172422,
         "z.participation": -0.6310821047,
         "z.social.impact": 0.357350089
        },
        {
         "Day": 9,
         "Number of Females": 3,
         "Sex": 2,
         "SixCluster": 4,
         "_deepnote_index_column": 3,
         "chat_room_id": "classChat-1492-14789",
         "person_id": 354809.0776,
         "z.comm.density": -0.5119680061,
         "z.internal.cohesion": -0.7021461173,
         "z.newness": -0.5516235708,
         "z.overall.responsivity": -0.7188061906,
         "z.participation": -0.8424493168,
         "z.social.impact": -0.7704526988
        },
        {
         "Day": 5,
         "Number of Females": 2,
         "Sex": 2,
         "SixCluster": 2,
         "_deepnote_index_column": 4,
         "chat_room_id": "classChat-1176-8160",
         "person_id": 440133.7777,
         "z.comm.density": -0.1663063964,
         "z.internal.cohesion": 0.6864120856,
         "z.newness": -0.3345457211,
         "z.overall.responsivity": 0.3578182696,
         "z.participation": 0.8151477185,
         "z.social.impact": 0.6777606428
        },
        {
         "Day": 9,
         "Number of Females": 2,
         "Sex": 2,
         "SixCluster": 1,
         "_deepnote_index_column": 5,
         "chat_room_id": "classChat-1492-14646",
         "person_id": 440133.7777,
         "z.comm.density": 0.2287733279,
         "z.internal.cohesion": -0.5078715342,
         "z.newness": 0.203207976,
         "z.overall.responsivity": -0.7188061906,
         "z.participation": 0.1587950101,
         "z.social.impact": -0.60955507
        },
        {
         "Day": 9,
         "Number of Females": 3,
         "Sex": 2,
         "SixCluster": 4,
         "_deepnote_index_column": 6,
         "chat_room_id": "classChat-1492-14693",
         "person_id": 587709.6613,
         "z.comm.density": -0.1656399484,
         "z.internal.cohesion": -0.246084579,
         "z.newness": -0.2080742202,
         "z.overall.responsivity": -0.7066320661,
         "z.participation": 1.2e-17,
         "z.social.impact": -0.5728431908
        },
        {
         "Day": 8,
         "Number of Females": 2,
         "Sex": 2,
         "SixCluster": 4,
         "_deepnote_index_column": 7,
         "chat_room_id": "classChat-1403-13526",
         "person_id": 587709.6613,
         "z.comm.density": -0.5119680061,
         "z.internal.cohesion": -0.9123025643,
         "z.newness": -0.5516235708,
         "z.overall.responsivity": -0.7188061906,
         "z.participation": -0.8424493168,
         "z.social.impact": -0.7704526988
        },
        {
         "Day": 5,
         "Number of Females": 3,
         "Sex": 2,
         "SixCluster": 6,
         "_deepnote_index_column": 8,
         "chat_room_id": "classChat-1176-8198",
         "person_id": 603656.9304,
         "z.comm.density": -0.2246292651,
         "z.internal.cohesion": 0.6864120856,
         "z.newness": -0.1493104501,
         "z.overall.responsivity": 0.2370363712,
         "z.participation": -0.2470144602,
         "z.social.impact": -0.5539101855
        },
        {
         "Day": 9,
         "Number of Females": 3,
         "Sex": 2,
         "SixCluster": 4,
         "_deepnote_index_column": 9,
         "chat_room_id": "classChat-1492-14656",
         "person_id": 667505.8443,
         "z.comm.density": -0.08991635445,
         "z.internal.cohesion": -0.2360339905,
         "z.newness": -0.2788396221,
         "z.overall.responsivity": -0.4211303212,
         "z.participation": -0.3753336602,
         "z.social.impact": -0.4884480499
        }
       ]
      },
      "text/html": [
       "<div>\n",
       "<style scoped>\n",
       "    .dataframe tbody tr th:only-of-type {\n",
       "        vertical-align: middle;\n",
       "    }\n",
       "\n",
       "    .dataframe tbody tr th {\n",
       "        vertical-align: top;\n",
       "    }\n",
       "\n",
       "    .dataframe thead th {\n",
       "        text-align: right;\n",
       "    }\n",
       "</style>\n",
       "<table border=\"1\" class=\"dataframe\">\n",
       "  <thead>\n",
       "    <tr style=\"text-align: right;\">\n",
       "      <th></th>\n",
       "      <th>person_id</th>\n",
       "      <th>Day</th>\n",
       "      <th>chat_room_id</th>\n",
       "      <th>z.participation</th>\n",
       "      <th>z.social.impact</th>\n",
       "      <th>z.overall.responsivity</th>\n",
       "      <th>z.internal.cohesion</th>\n",
       "      <th>z.newness</th>\n",
       "      <th>z.comm.density</th>\n",
       "      <th>SixCluster</th>\n",
       "      <th>Sex</th>\n",
       "      <th>Number of Females</th>\n",
       "    </tr>\n",
       "  </thead>\n",
       "  <tbody>\n",
       "    <tr>\n",
       "      <th>0</th>\n",
       "      <td>7.575438e+04</td>\n",
       "      <td>4</td>\n",
       "      <td>classChat-1006-6769</td>\n",
       "      <td>-7.410434e-01</td>\n",
       "      <td>-0.770453</td>\n",
       "      <td>0.602033</td>\n",
       "      <td>-0.912303</td>\n",
       "      <td>-0.551624</td>\n",
       "      <td>-0.410138</td>\n",
       "      <td>5</td>\n",
       "      <td>2.0</td>\n",
       "      <td>1</td>\n",
       "    </tr>\n",
       "    <tr>\n",
       "      <th>1</th>\n",
       "      <td>7.575438e+04</td>\n",
       "      <td>8</td>\n",
       "      <td>classChat-1403-13615</td>\n",
       "      <td>-7.410434e-01</td>\n",
       "      <td>-0.770453</td>\n",
       "      <td>0.602033</td>\n",
       "      <td>-0.912303</td>\n",
       "      <td>-0.551624</td>\n",
       "      <td>-0.511968</td>\n",
       "      <td>5</td>\n",
       "      <td>2.0</td>\n",
       "      <td>2</td>\n",
       "    </tr>\n",
       "    <tr>\n",
       "      <th>2</th>\n",
       "      <td>3.548091e+05</td>\n",
       "      <td>1</td>\n",
       "      <td>classChat-806-4046</td>\n",
       "      <td>-6.310821e-01</td>\n",
       "      <td>0.357350</td>\n",
       "      <td>0.317717</td>\n",
       "      <td>0.686412</td>\n",
       "      <td>-0.551624</td>\n",
       "      <td>-0.511968</td>\n",
       "      <td>6</td>\n",
       "      <td>2.0</td>\n",
       "      <td>3</td>\n",
       "    </tr>\n",
       "    <tr>\n",
       "      <th>3</th>\n",
       "      <td>3.548091e+05</td>\n",
       "      <td>9</td>\n",
       "      <td>classChat-1492-14789</td>\n",
       "      <td>-8.424493e-01</td>\n",
       "      <td>-0.770453</td>\n",
       "      <td>-0.718806</td>\n",
       "      <td>-0.702146</td>\n",
       "      <td>-0.551624</td>\n",
       "      <td>-0.511968</td>\n",
       "      <td>4</td>\n",
       "      <td>2.0</td>\n",
       "      <td>3</td>\n",
       "    </tr>\n",
       "    <tr>\n",
       "      <th>4</th>\n",
       "      <td>4.401338e+05</td>\n",
       "      <td>5</td>\n",
       "      <td>classChat-1176-8160</td>\n",
       "      <td>8.151477e-01</td>\n",
       "      <td>0.677761</td>\n",
       "      <td>0.357818</td>\n",
       "      <td>0.686412</td>\n",
       "      <td>-0.334546</td>\n",
       "      <td>-0.166306</td>\n",
       "      <td>2</td>\n",
       "      <td>2.0</td>\n",
       "      <td>2</td>\n",
       "    </tr>\n",
       "    <tr>\n",
       "      <th>...</th>\n",
       "      <td>...</td>\n",
       "      <td>...</td>\n",
       "      <td>...</td>\n",
       "      <td>...</td>\n",
       "      <td>...</td>\n",
       "      <td>...</td>\n",
       "      <td>...</td>\n",
       "      <td>...</td>\n",
       "      <td>...</td>\n",
       "      <td>...</td>\n",
       "      <td>...</td>\n",
       "      <td>...</td>\n",
       "    </tr>\n",
       "    <tr>\n",
       "      <th>1438</th>\n",
       "      <td>9.909364e+07</td>\n",
       "      <td>9</td>\n",
       "      <td>classChat-1492-14615</td>\n",
       "      <td>-5.477277e-01</td>\n",
       "      <td>-0.526620</td>\n",
       "      <td>-0.701131</td>\n",
       "      <td>-0.657566</td>\n",
       "      <td>-0.421271</td>\n",
       "      <td>-0.021296</td>\n",
       "      <td>4</td>\n",
       "      <td>2.0</td>\n",
       "      <td>3</td>\n",
       "    </tr>\n",
       "    <tr>\n",
       "      <th>1439</th>\n",
       "      <td>9.914771e+07</td>\n",
       "      <td>9</td>\n",
       "      <td>classChat-1492-14710</td>\n",
       "      <td>8.151477e-01</td>\n",
       "      <td>-0.770453</td>\n",
       "      <td>-0.243971</td>\n",
       "      <td>-0.912303</td>\n",
       "      <td>-0.514112</td>\n",
       "      <td>0.171010</td>\n",
       "      <td>1</td>\n",
       "      <td>2.0</td>\n",
       "      <td>3</td>\n",
       "    </tr>\n",
       "    <tr>\n",
       "      <th>1440</th>\n",
       "      <td>9.914771e+07</td>\n",
       "      <td>4</td>\n",
       "      <td>classChat-1006-6726</td>\n",
       "      <td>1.200000e-17</td>\n",
       "      <td>-0.768057</td>\n",
       "      <td>-0.145738</td>\n",
       "      <td>-0.456536</td>\n",
       "      <td>-0.078973</td>\n",
       "      <td>-0.103386</td>\n",
       "      <td>1</td>\n",
       "      <td>2.0</td>\n",
       "      <td>3</td>\n",
       "    </tr>\n",
       "    <tr>\n",
       "      <th>1441</th>\n",
       "      <td>9.914771e+07</td>\n",
       "      <td>5</td>\n",
       "      <td>classChat-1176-8312</td>\n",
       "      <td>7.410434e-01</td>\n",
       "      <td>-0.019031</td>\n",
       "      <td>-0.519231</td>\n",
       "      <td>0.339972</td>\n",
       "      <td>0.203208</td>\n",
       "      <td>0.228773</td>\n",
       "      <td>1</td>\n",
       "      <td>2.0</td>\n",
       "      <td>3</td>\n",
       "    </tr>\n",
       "    <tr>\n",
       "      <th>1442</th>\n",
       "      <td>9.914771e+07</td>\n",
       "      <td>8</td>\n",
       "      <td>classChat-1403-13572</td>\n",
       "      <td>1.482087e-01</td>\n",
       "      <td>-0.770453</td>\n",
       "      <td>-0.141151</td>\n",
       "      <td>-0.912303</td>\n",
       "      <td>-0.383513</td>\n",
       "      <td>-0.009622</td>\n",
       "      <td>4</td>\n",
       "      <td>2.0</td>\n",
       "      <td>1</td>\n",
       "    </tr>\n",
       "  </tbody>\n",
       "</table>\n",
       "<p>1443 rows × 12 columns</p>\n",
       "</div>"
      ],
      "text/plain": [
       "         person_id  Day          chat_room_id  z.participation  \\\n",
       "0     7.575438e+04    4   classChat-1006-6769    -7.410434e-01   \n",
       "1     7.575438e+04    8  classChat-1403-13615    -7.410434e-01   \n",
       "2     3.548091e+05    1    classChat-806-4046    -6.310821e-01   \n",
       "3     3.548091e+05    9  classChat-1492-14789    -8.424493e-01   \n",
       "4     4.401338e+05    5   classChat-1176-8160     8.151477e-01   \n",
       "...            ...  ...                   ...              ...   \n",
       "1438  9.909364e+07    9  classChat-1492-14615    -5.477277e-01   \n",
       "1439  9.914771e+07    9  classChat-1492-14710     8.151477e-01   \n",
       "1440  9.914771e+07    4   classChat-1006-6726     1.200000e-17   \n",
       "1441  9.914771e+07    5   classChat-1176-8312     7.410434e-01   \n",
       "1442  9.914771e+07    8  classChat-1403-13572     1.482087e-01   \n",
       "\n",
       "      z.social.impact  z.overall.responsivity  z.internal.cohesion  z.newness  \\\n",
       "0           -0.770453                0.602033            -0.912303  -0.551624   \n",
       "1           -0.770453                0.602033            -0.912303  -0.551624   \n",
       "2            0.357350                0.317717             0.686412  -0.551624   \n",
       "3           -0.770453               -0.718806            -0.702146  -0.551624   \n",
       "4            0.677761                0.357818             0.686412  -0.334546   \n",
       "...               ...                     ...                  ...        ...   \n",
       "1438        -0.526620               -0.701131            -0.657566  -0.421271   \n",
       "1439        -0.770453               -0.243971            -0.912303  -0.514112   \n",
       "1440        -0.768057               -0.145738            -0.456536  -0.078973   \n",
       "1441        -0.019031               -0.519231             0.339972   0.203208   \n",
       "1442        -0.770453               -0.141151            -0.912303  -0.383513   \n",
       "\n",
       "      z.comm.density  SixCluster  Sex  Number of Females  \n",
       "0          -0.410138           5  2.0                  1  \n",
       "1          -0.511968           5  2.0                  2  \n",
       "2          -0.511968           6  2.0                  3  \n",
       "3          -0.511968           4  2.0                  3  \n",
       "4          -0.166306           2  2.0                  2  \n",
       "...              ...         ...  ...                ...  \n",
       "1438       -0.021296           4  2.0                  3  \n",
       "1439        0.171010           1  2.0                  3  \n",
       "1440       -0.103386           1  2.0                  3  \n",
       "1441        0.228773           1  2.0                  3  \n",
       "1442       -0.009622           4  2.0                  1  \n",
       "\n",
       "[1443 rows x 12 columns]"
      ]
     },
     "execution_count": 10,
     "metadata": {},
     "output_type": "execute_result"
    }
   ],
   "source": [
    "df['Number of Females'] = num_females\n",
    "df_fem = df.loc[df['Sex']==2]\n",
    "#df_fem.drop(df_fem.loc[df_fem['Number of Females']==0].index, inplace=True)\n",
    "df_fem.drop(df_fem.loc[df_fem['Number of Females']==4].index, inplace=True)\n",
    "df_fem.reset_index(drop = True)"
   ]
  },
  {
   "cell_type": "code",
   "execution_count": 11,
   "metadata": {
    "cell_id": "3805905ab9234468953060dcc73becb9",
    "deepnote_cell_type": "code",
    "deepnote_to_be_reexecuted": false,
    "execution_millis": 57,
    "execution_start": 1689630378157,
    "source_hash": "8828c614"
   },
   "outputs": [
    {
     "data": {
      "text/plain": [
       "(array([0, 1, 2, 3, 4, 5]),\n",
       " [Text(0, 0, 'z.participation'),\n",
       "  Text(1, 0, 'z.social.impact'),\n",
       "  Text(2, 0, 'z.overall.responsivity'),\n",
       "  Text(3, 0, 'z.internal.cohesion'),\n",
       "  Text(4, 0, 'z.newness'),\n",
       "  Text(5, 0, 'z.comm.density')])"
      ]
     },
     "execution_count": 11,
     "metadata": {},
     "output_type": "execute_result"
    },
    {
     "data": {
      "image/png": "[encoded data removed]",
      "text/plain": [
       "<Figure size 1400x700 with 1 Axes>"
      ]
     },
     "metadata": {
      "image/png": {
       "height": 734,
       "width": 1190
      }
     },
     "output_type": "display_data"
    }
   ],
   "source": [
    "#chat_room_id = list(set(df_fem['chat_room_id']))\n",
    "num = [1,2,3]\n",
    "z_par = []\n",
    "z_soc = []\n",
    "z_overesp = []\n",
    "z_internal = []\n",
    "z_new = []\n",
    "z_dens = []\n",
    "for n in num:\n",
    "  if n == 1:\n",
    "    y = df_fem.loc[df_fem['Number of Females'] <= n]\n",
    "    z_par.append(sum(y['z.participation']) / len(y))\n",
    "    z_soc.append(sum(y['z.social.impact']) / len(y))\n",
    "    z_overesp.append(sum(y['z.overall.responsivity']) / len(y))\n",
    "    z_internal.append(sum(y['z.internal.cohesion']) / len(y))\n",
    "    z_new.append(sum(y['z.newness']) / len(y))\n",
    "    z_dens.append(sum(y['z.comm.density']) / len(y))\n",
    "  elif n == 2:\n",
    "    y = df_fem.loc[df_fem['Number of Females'] == n]\n",
    "    z_par.append(sum(y['z.participation']) / len(y))\n",
    "    z_soc.append(sum(y['z.social.impact']) / len(y))\n",
    "    z_overesp.append(sum(y['z.overall.responsivity']) / len(y))\n",
    "    z_internal.append(sum(y['z.internal.cohesion']) / len(y))\n",
    "    z_new.append(sum(y['z.newness']) / len(y))\n",
    "    z_dens.append(sum(y['z.comm.density']) / len(y))\n",
    "  elif n == 3:\n",
    "    y = df_fem.loc[df_fem['Number of Females'] >= n]\n",
    "    z_par.append(sum(y['z.participation']) / len(y))\n",
    "    z_soc.append(sum(y['z.social.impact']) / len(y))\n",
    "    z_overesp.append(sum(y['z.overall.responsivity']) / len(y))\n",
    "    z_internal.append(sum(y['z.internal.cohesion']) / len(y))\n",
    "    z_new.append(sum(y['z.newness']) / len(y))\n",
    "    z_dens.append(sum(y['z.comm.density']) / len(y))\n",
    "\n",
    "plotdata = pd.DataFrame({\n",
    "    \"z.participation\":z_par,\n",
    "    \"z.social.impact\":z_soc,\n",
    "    \"z.overall.responsivity\":z_overesp,\n",
    "    \"z.internal.cohesion\":z_internal,\n",
    "    \"z.newness\":z_new,\n",
    "    \"z.comm.density\":z_dens\n",
    "\n",
    "    }, \n",
    "    index=['female minority', 'gender parity', 'female majority']\n",
    ")\n",
    "\n",
    "plotdata = plotdata + .15\n",
    "plotdata = plotdata.transpose()\n",
    "\n",
    "plotdata.plot(kind=\"bar\", figsize=(14, 7), color = CB_color_cycle, edgecolor = 'black')\n",
    "plt.title(\"GCA Measures for Females\", fontsize=15)\n",
    "#plt.xlabel(\"Gender Compositions\")\n",
    "plt.ylabel(\"Scores\", fontsize=15)\n",
    "plt.xticks(rotation=45, fontsize=12)"
   ]
  },
  {
   "cell_type": "code",
   "execution_count": 12,
   "metadata": {
    "cell_id": "8782a736390f493fbff7decd510483a6",
    "deepnote_cell_type": "code",
    "deepnote_to_be_reexecuted": false,
    "execution_millis": 73,
    "execution_start": 1689630378519,
    "source_hash": "4078eb56"
   },
   "outputs": [
    {
     "name": "stderr",
     "output_type": "stream",
     "text": [
      "/shared-libs/python3.9/py/lib/python3.9/site-packages/pandas/core/frame.py:4308: SettingWithCopyWarning: \n",
      "A value is trying to be set on a copy of a slice from a DataFrame\n",
      "\n",
      "See the caveats in the documentation: https://pandas.pydata.org/pandas-docs/stable/user_guide/indexing.html#returning-a-view-versus-a-copy\n",
      "  return super().drop(\n"
     ]
    },
    {
     "data": {
      "text/plain": [
       "(array([0, 1, 2, 3, 4, 5]),\n",
       " [Text(0, 0, 'Participation'),\n",
       "  Text(1, 0, 'Social Impact'),\n",
       "  Text(2, 0, 'Overall Responsivity'),\n",
       "  Text(3, 0, 'Internal Cohesion'),\n",
       "  Text(4, 0, 'Newness'),\n",
       "  Text(5, 0, 'Communication Density')])"
      ]
     },
     "execution_count": 12,
     "metadata": {},
     "output_type": "execute_result"
    },
    {
     "data": {
      "image/png": "[encoded data removed]",
      "text/plain": [
       "<Figure size 1400x700 with 1 Axes>"
      ]
     },
     "metadata": {
      "image/png": {
       "height": 750,
       "width": 1190
      }
     },
     "output_type": "display_data"
    }
   ],
   "source": [
    "df_male = df.loc[df['Sex']==1]\n",
    "df_male.drop(df_male.loc[df_male['Number of Females']==0].index, inplace=True)\n",
    "df_male.reset_index(drop = True)\n",
    "\n",
    "num = [1,2,3]\n",
    "z_par = []\n",
    "z_soc = []\n",
    "z_overesp = []\n",
    "z_internal = []\n",
    "z_new = []\n",
    "z_dens = []\n",
    "for n in num:\n",
    "  if n == 1:\n",
    "    y = df_male.loc[df_male['Number of Females'] <= n]\n",
    "    z_par.append(sum(y['z.participation']) / len(y))\n",
    "    z_soc.append(sum(y['z.social.impact']) / len(y))\n",
    "    z_overesp.append(sum(y['z.overall.responsivity']) / len(y))\n",
    "    z_internal.append(sum(y['z.internal.cohesion']) / len(y))\n",
    "    z_new.append(sum(y['z.newness']) / len(y))\n",
    "    z_dens.append(sum(y['z.comm.density']) / len(y))\n",
    "  elif n == 2:\n",
    "    y = df_male.loc[df_male['Number of Females'] == n]\n",
    "    z_par.append(sum(y['z.participation']) / len(y))\n",
    "    z_soc.append(sum(y['z.social.impact']) / len(y))\n",
    "    z_overesp.append(sum(y['z.overall.responsivity']) / len(y))\n",
    "    z_internal.append(sum(y['z.internal.cohesion']) / len(y))\n",
    "    z_new.append(sum(y['z.newness']) / len(y))\n",
    "    z_dens.append(sum(y['z.comm.density']) / len(y))\n",
    "  elif n == 3:\n",
    "    y = df_male.loc[df_male['Number of Females'] >= n]\n",
    "    z_par.append(sum(y['z.participation']) / len(y))\n",
    "    z_soc.append(sum(y['z.social.impact']) / len(y))\n",
    "    z_overesp.append(sum(y['z.overall.responsivity']) / len(y))\n",
    "    z_internal.append(sum(y['z.internal.cohesion']) / len(y))\n",
    "    z_new.append(sum(y['z.newness']) / len(y))\n",
    "    z_dens.append(sum(y['z.comm.density']) / len(y))\n",
    "\n",
    "plotdata = pd.DataFrame({\n",
    "    \"Participation\":z_par,\n",
    "    \"Social Impact\":z_soc,\n",
    "    \"Overall Responsivity\":z_overesp,\n",
    "    \"Internal Cohesion\":z_internal,\n",
    "    \"Newness\":z_new,\n",
    "    \"Communication Density\":z_dens\n",
    "\n",
    "    }, \n",
    "    index=['female minority', 'gender parity', 'female majority']\n",
    ")\n",
    "\n",
    "plotdata = plotdata + .15\n",
    "plotdata = plotdata.transpose()\n",
    "\n",
    "plotdata.plot(kind=\"bar\", figsize=(14, 7), color = CB_color_cycle, edgecolor = 'black')\n",
    "plt.title(\"GCA Measures for Males\", fontsize=15)\n",
    "#plt.xlabel(\"Gender Compositions\")\n",
    "plt.ylabel(\"Scores\", fontsize=15)\n",
    "plt.xticks(rotation=45, fontsize=12)"
   ]
  },
  {
   "cell_type": "markdown",
   "metadata": {
    "created_in_deepnote_cell": true,
    "deepnote_cell_type": "markdown"
   },
   "source": [
    "<a style='text-decoration:none;line-height:16px;display:flex;color:#5B5B62;padding:10px;justify-content:end;' href='https://deepnote.com?utm_source=created-in-deepnote-cell&projectId=227f84b8-94f9-4b52-a4a0-d5e48ecc818e' target=\"_blank\">\n",
    "<img alt='Created in deepnote.com' style='display:inline;max-height:16px;margin:0px;margin-right:7.5px;' src='data:image/svg+xml;base64,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' > </img>\n",
    "Created in <span style='font-weight:600;margin-left:4px;'>Deepnote</span></a>"
   ]
  }
 ],
 "metadata": {
  "deepnote": {},
  "deepnote_execution_queue": [],
  "deepnote_notebook_id": "984280363d534ffe94290e6f8c655227",
  "deepnote_persisted_session": {
   "createdAt": "2023-07-15T22:33:09.128Z"
  },
  "kernelspec": {
   "display_name": "Python 3 (ipykernel)",
   "language": "python",
   "name": "python3"
  },
  "language_info": {
   "codemirror_mode": {
    "name": "ipython",
    "version": 3
   },
   "file_extension": ".py",
   "mimetype": "text/x-python",
   "name": "python",
   "nbconvert_exporter": "python",
   "pygments_lexer": "ipython3",
   "version": "3.11.3"
  }
 },
 "nbformat": 4,
 "nbformat_minor": 1
}
